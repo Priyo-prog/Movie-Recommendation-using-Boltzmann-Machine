{
  "nbformat": 4,
  "nbformat_minor": 0,
  "metadata": {
    "colab": {
      "name": "Boltzmann_Machine_movie_recommendation.ipynb",
      "provenance": [],
      "toc_visible": true,
      "authorship_tag": "ABX9TyPc3ErdeIU0IwYtKlo8KdeA",
      "include_colab_link": true
    },
    "kernelspec": {
      "name": "python3",
      "display_name": "Python 3"
    },
    "language_info": {
      "name": "python"
    }
  },
  "cells": [
    {
      "cell_type": "markdown",
      "metadata": {
        "id": "view-in-github",
        "colab_type": "text"
      },
      "source": [
        "<a href=\"https://colab.research.google.com/github/Priyo-prog/Movie-Recommendation-using-Boltzmann-Machine/blob/main/Boltzmann_Machine_movie_recommendation.ipynb\" target=\"_parent\"><img src=\"https://colab.research.google.com/assets/colab-badge.svg\" alt=\"Open In Colab\"/></a>"
      ]
    },
    {
      "cell_type": "markdown",
      "metadata": {
        "id": "mDj3i2BpT6Rl"
      },
      "source": [
        "# Movie recommendation system using Boltzmann Machine\n",
        "\n",
        "* Use the data from Movielens to analyze the data on movies https://grouplens.org/datasets/movielens/\n",
        "\n",
        "* Use Torch Libraries to build a Boltzmann Machine"
      ]
    },
    {
      "cell_type": "markdown",
      "metadata": {
        "id": "664qoYEiUXTS"
      },
      "source": [
        "## Import important libraries"
      ]
    },
    {
      "cell_type": "code",
      "metadata": {
        "id": "nupjgx3IUbfa"
      },
      "source": [
        "import pandas as pd\n",
        "import numpy as np\n",
        "import torch \n",
        "import torch.nn as nn\n",
        "import torch.nn.parallel\n",
        "import torch.optim as optim\n",
        "import torch.utils.data\n",
        "from torch.autograd import Variable"
      ],
      "execution_count": 1,
      "outputs": []
    },
    {
      "cell_type": "markdown",
      "metadata": {
        "id": "rkA3Up2fUhpY"
      },
      "source": [
        "## Import the data"
      ]
    },
    {
      "cell_type": "code",
      "metadata": {
        "colab": {
          "base_uri": "https://localhost:8080/"
        },
        "id": "kG3z0YGxVyvZ",
        "outputId": "4b54a09d-df1a-4dbf-8770-fe163cf217d0"
      },
      "source": [
        "# Mount the drive amd import the data\n",
        "from google.colab import drive\n",
        "drive.mount('/content/drive')"
      ],
      "execution_count": 2,
      "outputs": [
        {
          "output_type": "stream",
          "name": "stdout",
          "text": [
            "Mounted at /content/drive\n"
          ]
        }
      ]
    },
    {
      "cell_type": "code",
      "metadata": {
        "id": "p_iY5oVJWE7W"
      },
      "source": [
        "# Import the dataset\n",
        "movies = pd.read_csv('/content/drive/MyDrive/Deep Learning/Boltzmann Machine Datasets/ml-1m/movies.dat', \n",
        "                     sep='::', header=None, engine='python', encoding='latin-1')\n",
        "\n",
        "users = pd.read_csv('/content/drive/MyDrive/Deep Learning/Boltzmann Machine Datasets/ml-1m/users.dat',\n",
        "                    sep = '::', header=None, engine='python', encoding='latin-1')\n",
        "ratings = pd.read_csv('/content/drive/MyDrive/Deep Learning/Boltzmann Machine Datasets/ml-1m/ratings.dat',\n",
        "                      sep = '::', header=None, engine='python', encoding='latin-1')"
      ],
      "execution_count": 3,
      "outputs": []
    },
    {
      "cell_type": "code",
      "metadata": {
        "colab": {
          "base_uri": "https://localhost:8080/",
          "height": 204
        },
        "id": "wPOxywSAXgAk",
        "outputId": "1933d856-1d77-4169-f381-62961b552d8b"
      },
      "source": [
        "movies.head(5)"
      ],
      "execution_count": 4,
      "outputs": [
        {
          "output_type": "execute_result",
          "data": {
            "text/html": [
              "<div>\n",
              "<style scoped>\n",
              "    .dataframe tbody tr th:only-of-type {\n",
              "        vertical-align: middle;\n",
              "    }\n",
              "\n",
              "    .dataframe tbody tr th {\n",
              "        vertical-align: top;\n",
              "    }\n",
              "\n",
              "    .dataframe thead th {\n",
              "        text-align: right;\n",
              "    }\n",
              "</style>\n",
              "<table border=\"1\" class=\"dataframe\">\n",
              "  <thead>\n",
              "    <tr style=\"text-align: right;\">\n",
              "      <th></th>\n",
              "      <th>0</th>\n",
              "      <th>1</th>\n",
              "      <th>2</th>\n",
              "    </tr>\n",
              "  </thead>\n",
              "  <tbody>\n",
              "    <tr>\n",
              "      <th>0</th>\n",
              "      <td>1</td>\n",
              "      <td>Toy Story (1995)</td>\n",
              "      <td>Animation|Children's|Comedy</td>\n",
              "    </tr>\n",
              "    <tr>\n",
              "      <th>1</th>\n",
              "      <td>2</td>\n",
              "      <td>Jumanji (1995)</td>\n",
              "      <td>Adventure|Children's|Fantasy</td>\n",
              "    </tr>\n",
              "    <tr>\n",
              "      <th>2</th>\n",
              "      <td>3</td>\n",
              "      <td>Grumpier Old Men (1995)</td>\n",
              "      <td>Comedy|Romance</td>\n",
              "    </tr>\n",
              "    <tr>\n",
              "      <th>3</th>\n",
              "      <td>4</td>\n",
              "      <td>Waiting to Exhale (1995)</td>\n",
              "      <td>Comedy|Drama</td>\n",
              "    </tr>\n",
              "    <tr>\n",
              "      <th>4</th>\n",
              "      <td>5</td>\n",
              "      <td>Father of the Bride Part II (1995)</td>\n",
              "      <td>Comedy</td>\n",
              "    </tr>\n",
              "  </tbody>\n",
              "</table>\n",
              "</div>"
            ],
            "text/plain": [
              "   0                                   1                             2\n",
              "0  1                    Toy Story (1995)   Animation|Children's|Comedy\n",
              "1  2                      Jumanji (1995)  Adventure|Children's|Fantasy\n",
              "2  3             Grumpier Old Men (1995)                Comedy|Romance\n",
              "3  4            Waiting to Exhale (1995)                  Comedy|Drama\n",
              "4  5  Father of the Bride Part II (1995)                        Comedy"
            ]
          },
          "metadata": {},
          "execution_count": 4
        }
      ]
    },
    {
      "cell_type": "code",
      "metadata": {
        "colab": {
          "base_uri": "https://localhost:8080/"
        },
        "id": "LY6FrGxmXmKK",
        "outputId": "3364cc88-4e94-4f91-ce9b-c8fbc00db4fc"
      },
      "source": [
        "users.head(5) , users.shape"
      ],
      "execution_count": 5,
      "outputs": [
        {
          "output_type": "execute_result",
          "data": {
            "text/plain": [
              "(   0  1   2   3      4\n",
              " 0  1  F   1  10  48067\n",
              " 1  2  M  56  16  70072\n",
              " 2  3  M  25  15  55117\n",
              " 3  4  M  45   7  02460\n",
              " 4  5  M  25  20  55455, (6040, 5))"
            ]
          },
          "metadata": {},
          "execution_count": 5
        }
      ]
    },
    {
      "cell_type": "code",
      "metadata": {
        "colab": {
          "base_uri": "https://localhost:8080/",
          "height": 204
        },
        "id": "sPERgWbcYMyD",
        "outputId": "19ad5914-2567-4d64-8d50-b4039fd52500"
      },
      "source": [
        "ratings.head(5)"
      ],
      "execution_count": 6,
      "outputs": [
        {
          "output_type": "execute_result",
          "data": {
            "text/html": [
              "<div>\n",
              "<style scoped>\n",
              "    .dataframe tbody tr th:only-of-type {\n",
              "        vertical-align: middle;\n",
              "    }\n",
              "\n",
              "    .dataframe tbody tr th {\n",
              "        vertical-align: top;\n",
              "    }\n",
              "\n",
              "    .dataframe thead th {\n",
              "        text-align: right;\n",
              "    }\n",
              "</style>\n",
              "<table border=\"1\" class=\"dataframe\">\n",
              "  <thead>\n",
              "    <tr style=\"text-align: right;\">\n",
              "      <th></th>\n",
              "      <th>0</th>\n",
              "      <th>1</th>\n",
              "      <th>2</th>\n",
              "      <th>3</th>\n",
              "    </tr>\n",
              "  </thead>\n",
              "  <tbody>\n",
              "    <tr>\n",
              "      <th>0</th>\n",
              "      <td>1</td>\n",
              "      <td>1193</td>\n",
              "      <td>5</td>\n",
              "      <td>978300760</td>\n",
              "    </tr>\n",
              "    <tr>\n",
              "      <th>1</th>\n",
              "      <td>1</td>\n",
              "      <td>661</td>\n",
              "      <td>3</td>\n",
              "      <td>978302109</td>\n",
              "    </tr>\n",
              "    <tr>\n",
              "      <th>2</th>\n",
              "      <td>1</td>\n",
              "      <td>914</td>\n",
              "      <td>3</td>\n",
              "      <td>978301968</td>\n",
              "    </tr>\n",
              "    <tr>\n",
              "      <th>3</th>\n",
              "      <td>1</td>\n",
              "      <td>3408</td>\n",
              "      <td>4</td>\n",
              "      <td>978300275</td>\n",
              "    </tr>\n",
              "    <tr>\n",
              "      <th>4</th>\n",
              "      <td>1</td>\n",
              "      <td>2355</td>\n",
              "      <td>5</td>\n",
              "      <td>978824291</td>\n",
              "    </tr>\n",
              "  </tbody>\n",
              "</table>\n",
              "</div>"
            ],
            "text/plain": [
              "   0     1  2          3\n",
              "0  1  1193  5  978300760\n",
              "1  1   661  3  978302109\n",
              "2  1   914  3  978301968\n",
              "3  1  3408  4  978300275\n",
              "4  1  2355  5  978824291"
            ]
          },
          "metadata": {},
          "execution_count": 6
        }
      ]
    },
    {
      "cell_type": "markdown",
      "metadata": {
        "id": "XPX88cRCZEwv"
      },
      "source": [
        "## Preparing the training and test set"
      ]
    },
    {
      "cell_type": "code",
      "metadata": {
        "colab": {
          "base_uri": "https://localhost:8080/"
        },
        "id": "9DKKyzFUimrf",
        "outputId": "6bcb4847-b97e-4090-b61c-fdf02b81d4b1"
      },
      "source": [
        "# Import the training set and convert it to an array\n",
        "training_set = pd.read_csv('/content/drive/MyDrive/Deep Learning/Boltzmann Machine Datasets/ml-100k/u1.base',\n",
        "                           delimiter='\\t')\n",
        "training_set = np.array(training_set, dtype='int')\n",
        "\n",
        "# Import the test set and convert it to array\n",
        "test_set = pd.read_csv('/content/drive/MyDrive/Deep Learning/Boltzmann Machine Datasets/ml-100k/u1.test',\n",
        "                       delimiter='\\t')\n",
        "test_set = np.array(test_set, dtype='int')\n",
        "\n",
        "training_set.shape, test_set.shape, type(training_set), type(test_set)"
      ],
      "execution_count": 72,
      "outputs": [
        {
          "output_type": "execute_result",
          "data": {
            "text/plain": [
              "((79999, 4), (19999, 4), numpy.ndarray, numpy.ndarray)"
            ]
          },
          "metadata": {},
          "execution_count": 72
        }
      ]
    },
    {
      "cell_type": "code",
      "metadata": {
        "colab": {
          "base_uri": "https://localhost:8080/"
        },
        "id": "TOcTMPaqQeyw",
        "outputId": "fcc2334c-1698-4545-8d2c-95df4397c4ef"
      },
      "source": [
        "training_set[:5][:,2], test_set[:5]"
      ],
      "execution_count": 73,
      "outputs": [
        {
          "output_type": "execute_result",
          "data": {
            "text/plain": [
              "(array([3, 4, 3, 3, 4]), array([[        1,        10,         3, 875693118],\n",
              "        [        1,        12,         5, 878542960],\n",
              "        [        1,        14,         5, 874965706],\n",
              "        [        1,        17,         3, 875073198],\n",
              "        [        1,        20,         4, 887431883]]))"
            ]
          },
          "metadata": {},
          "execution_count": 73
        }
      ]
    },
    {
      "cell_type": "code",
      "metadata": {
        "id": "-guyc7A6lSq1",
        "colab": {
          "base_uri": "https://localhost:8080/"
        },
        "outputId": "7083f743-d216-4c0b-d1a3-ae6673708f9a"
      },
      "source": [
        "# Get the number of users and number of movies\n",
        "nb_users = int(max(max(training_set[:,0]), max(test_set[:,0])))\n",
        "nb_movies = int(max(max(training_set[:,1]), max(test_set[:,1])))\n",
        "nb_users, nb_movies"
      ],
      "execution_count": 74,
      "outputs": [
        {
          "output_type": "execute_result",
          "data": {
            "text/plain": [
              "(943, 1682)"
            ]
          },
          "metadata": {},
          "execution_count": 74
        }
      ]
    },
    {
      "cell_type": "markdown",
      "metadata": {
        "id": "E3w8pC8eHsZN"
      },
      "source": [
        "## Convert the data into arrays with users in lines and movies in columns"
      ]
    },
    {
      "cell_type": "code",
      "metadata": {
        "id": "K8geD-HSIuxc"
      },
      "source": [
        "# Create a function for this\n",
        "def convert(data):\n",
        "  # There will list of 943 because we 943 users and the list will have 1682 elements\n",
        "  # because we have that number of movies\n",
        "  new_data = [] # Initializing the list\n",
        "  for id_users in range(1,nb_users + 1):\n",
        "    id_movies = data[:,1][data[:,0] == id_users] # Get the movie ids of a particular users\n",
        "    id_ratings = data[:,2][data[:,0] == id_users] # Get the ratings of the particular users\n",
        "    # Now we want to get the list of the movies and ratings where the users has not rated the \n",
        "    # movie as 0\n",
        "    ratings = np.zeros(nb_movies)\n",
        "    ratings[id_movies - 1] = id_ratings\n",
        "    new_data.append(list(ratings))\n",
        "  return new_data  "
      ],
      "execution_count": 75,
      "outputs": []
    },
    {
      "cell_type": "code",
      "metadata": {
        "id": "mEGwnmo9Cg1i"
      },
      "source": [
        "training_set_conv = convert(training_set)\n",
        "test_set_conv = convert(test_set)\n",
        "\n",
        "#training_set, test_set"
      ],
      "execution_count": 76,
      "outputs": []
    },
    {
      "cell_type": "code",
      "metadata": {
        "colab": {
          "base_uri": "https://localhost:8080/"
        },
        "id": "gukyuMxVLOUK",
        "outputId": "f9ec3e31-3d1d-4a13-db3c-5590d6ec5a58"
      },
      "source": [
        "type(training_set_conv), type(test_set_conv)"
      ],
      "execution_count": 79,
      "outputs": [
        {
          "output_type": "execute_result",
          "data": {
            "text/plain": [
              "(list, list)"
            ]
          },
          "metadata": {},
          "execution_count": 79
        }
      ]
    },
    {
      "cell_type": "markdown",
      "metadata": {
        "id": "kFZ3pTMyOedT"
      },
      "source": [
        "## Convert the data into Torch tensors"
      ]
    },
    {
      "cell_type": "code",
      "metadata": {
        "id": "GO9PhxX-RWFu"
      },
      "source": [
        "training_set_conv = torch.FloatTensor(training_set_conv)\n",
        "test_set_conv = torch.FloatTensor(test_set_conv)"
      ],
      "execution_count": 81,
      "outputs": []
    },
    {
      "cell_type": "code",
      "metadata": {
        "id": "rkGrylEoSLPm"
      },
      "source": [
        "# Converting the ratings into binary ratings '1(liked)' or '0(not liked)'\n",
        "# Replace all the '0' s in the set to '-1'. Because in the list the '0' s are the ratings where the users\n",
        "# actually didn't rate the movies. \n",
        "# Now since the ratings are going to be 0s and 1s, the original '0' s must have a new value now that is '-1'.\n",
        "training_set_conv[training_set_conv == 0] = -1\n",
        "training_set_conv[training_set_conv == 1] = 0 # OR operation doesn't work with Pytorch\n",
        "training_set_conv[training_set_conv == 2] = 0 # This will also have rating 0(not liked movies)\n",
        "training_set_conv[training_set_conv >= 3] = 1 # Liked Movies\n",
        "\n",
        "# Test set\n",
        "test_set_conv[test_set_conv == 0] = -1\n",
        "test_set_conv[test_set_conv == 1] = 0 # OR operation doesn't work with Pytorch\n",
        "test_set_conv[test_set_conv == 2] = 0 # This will also have rating 0(not liked movies)\n",
        "test_set_conv[test_set_conv >= 3] = 1 # Liked Movies"
      ],
      "execution_count": 82,
      "outputs": []
    },
    {
      "cell_type": "markdown",
      "metadata": {
        "id": "scqgj5ZbWQQn"
      },
      "source": [
        "## Architecture of Restricted Boltzmann Machine"
      ]
    },
    {
      "cell_type": "code",
      "metadata": {
        "id": "xsbXOz0XWlrh"
      },
      "source": [
        "# Create a class for RBM architecture\n",
        "class RBM():\n",
        "  def __init__(self, nv, nh): # 'nv'-visible node, 'nh' - hidden node\n",
        "    self.W = torch.randn(nh, nv) # Weights initialized\n",
        "    self.a = torch.randn(1, nh) # Create a 2-D tensor '1' for batch 'nh' for bias\n",
        "    self.b = torch.randn(1, nv) # for visible node\n",
        "\n",
        "  def sample_h(self, x):\n",
        "    # Compute probabilities of 'hidden' given 'visible'\n",
        "    wx = torch.mm(x, self.W.t())\n",
        "    activation = wx + self.a.expand_as(wx)\n",
        "    p_h_given_v = torch.sigmoid(activation)\n",
        "    return p_h_given_v, torch.bernoulli(p_h_given_v)  \n",
        "\n",
        "  def sample_v(self, y):\n",
        "    # Compute probabilities of 'hidden' given 'visible'\n",
        "    wy = torch.mm(y, self.W)\n",
        "    activation = wy + self.b.expand_as(wy)\n",
        "    p_v_given_h = torch.sigmoid(activation)\n",
        "    return p_v_given_h, torch.bernoulli(p_v_given_h)      \n"
      ],
      "execution_count": null,
      "outputs": []
    }
  ]
}