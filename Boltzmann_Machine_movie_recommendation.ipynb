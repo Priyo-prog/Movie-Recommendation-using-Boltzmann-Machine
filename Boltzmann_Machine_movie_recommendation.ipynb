{
  "nbformat": 4,
  "nbformat_minor": 0,
  "metadata": {
    "colab": {
      "name": "Boltzmann_Machine_movie_recommendation.ipynb",
      "provenance": [],
      "toc_visible": true,
      "authorship_tag": "ABX9TyM6irq0nxUzV7sZMA4VEVbs",
      "include_colab_link": true
    },
    "kernelspec": {
      "name": "python3",
      "display_name": "Python 3"
    },
    "language_info": {
      "name": "python"
    }
  },
  "cells": [
    {
      "cell_type": "markdown",
      "metadata": {
        "id": "view-in-github",
        "colab_type": "text"
      },
      "source": [
        "<a href=\"https://colab.research.google.com/github/Priyo-prog/Movie-Recommendation-using-Boltzmann-Machine/blob/main/Boltzmann_Machine_movie_recommendation.ipynb\" target=\"_parent\"><img src=\"https://colab.research.google.com/assets/colab-badge.svg\" alt=\"Open In Colab\"/></a>"
      ]
    },
    {
      "cell_type": "markdown",
      "metadata": {
        "id": "mDj3i2BpT6Rl"
      },
      "source": [
        "# Movie recommendation system using Boltzmann Machine\n",
        "\n",
        "* Use the data from Movielens to analyze the data on movies https://grouplens.org/datasets/movielens/\n",
        "\n",
        "* Use Torch Libraries to build a Boltzmann Machine"
      ]
    },
    {
      "cell_type": "markdown",
      "metadata": {
        "id": "664qoYEiUXTS"
      },
      "source": [
        "## Import important libraries"
      ]
    },
    {
      "cell_type": "code",
      "metadata": {
        "id": "nupjgx3IUbfa"
      },
      "source": [
        "import pandas as pd\n",
        "import numpy as np\n",
        "import torch \n",
        "import torch.nn as nn\n",
        "import torch.nn.parallel\n",
        "import torch.optim as optim\n",
        "import torch.utils.data\n",
        "from torch.autograd import Variable"
      ],
      "execution_count": 1,
      "outputs": []
    },
    {
      "cell_type": "markdown",
      "metadata": {
        "id": "rkA3Up2fUhpY"
      },
      "source": [
        "## Import the data"
      ]
    },
    {
      "cell_type": "code",
      "metadata": {
        "colab": {
          "base_uri": "https://localhost:8080/"
        },
        "id": "kG3z0YGxVyvZ",
        "outputId": "3524caaa-3cd4-448d-d553-861faa8a2cd1"
      },
      "source": [
        "# Mount the drive amd import the data\n",
        "from google.colab import drive\n",
        "drive.mount('/content/drive')"
      ],
      "execution_count": 2,
      "outputs": [
        {
          "output_type": "stream",
          "name": "stdout",
          "text": [
            "Mounted at /content/drive\n"
          ]
        }
      ]
    },
    {
      "cell_type": "code",
      "metadata": {
        "id": "p_iY5oVJWE7W"
      },
      "source": [
        "# Import the dataset\n",
        "movies = pd.read_csv('/content/drive/MyDrive/Deep Learning/Boltzmann Machine Datasets/ml-1m/movies.dat', \n",
        "                     sep='::', header=None, engine='python', encoding='latin-1')\n",
        "\n",
        "users = pd.read_csv('/content/drive/MyDrive/Deep Learning/Boltzmann Machine Datasets/ml-1m/users.dat',\n",
        "                    sep = '::', header=None, engine='python', encoding='latin-1')\n",
        "ratings = pd.read_csv('/content/drive/MyDrive/Deep Learning/Boltzmann Machine Datasets/ml-1m/ratings.dat',\n",
        "                      sep = '::', header=None, engine='python', encoding='latin-1')"
      ],
      "execution_count": 3,
      "outputs": []
    },
    {
      "cell_type": "code",
      "metadata": {
        "colab": {
          "base_uri": "https://localhost:8080/",
          "height": 204
        },
        "id": "wPOxywSAXgAk",
        "outputId": "3423b37a-79ae-42e2-ee9e-7e6a207c5453"
      },
      "source": [
        "movies.head(5)"
      ],
      "execution_count": 4,
      "outputs": [
        {
          "output_type": "execute_result",
          "data": {
            "text/html": [
              "<div>\n",
              "<style scoped>\n",
              "    .dataframe tbody tr th:only-of-type {\n",
              "        vertical-align: middle;\n",
              "    }\n",
              "\n",
              "    .dataframe tbody tr th {\n",
              "        vertical-align: top;\n",
              "    }\n",
              "\n",
              "    .dataframe thead th {\n",
              "        text-align: right;\n",
              "    }\n",
              "</style>\n",
              "<table border=\"1\" class=\"dataframe\">\n",
              "  <thead>\n",
              "    <tr style=\"text-align: right;\">\n",
              "      <th></th>\n",
              "      <th>0</th>\n",
              "      <th>1</th>\n",
              "      <th>2</th>\n",
              "    </tr>\n",
              "  </thead>\n",
              "  <tbody>\n",
              "    <tr>\n",
              "      <th>0</th>\n",
              "      <td>1</td>\n",
              "      <td>Toy Story (1995)</td>\n",
              "      <td>Animation|Children's|Comedy</td>\n",
              "    </tr>\n",
              "    <tr>\n",
              "      <th>1</th>\n",
              "      <td>2</td>\n",
              "      <td>Jumanji (1995)</td>\n",
              "      <td>Adventure|Children's|Fantasy</td>\n",
              "    </tr>\n",
              "    <tr>\n",
              "      <th>2</th>\n",
              "      <td>3</td>\n",
              "      <td>Grumpier Old Men (1995)</td>\n",
              "      <td>Comedy|Romance</td>\n",
              "    </tr>\n",
              "    <tr>\n",
              "      <th>3</th>\n",
              "      <td>4</td>\n",
              "      <td>Waiting to Exhale (1995)</td>\n",
              "      <td>Comedy|Drama</td>\n",
              "    </tr>\n",
              "    <tr>\n",
              "      <th>4</th>\n",
              "      <td>5</td>\n",
              "      <td>Father of the Bride Part II (1995)</td>\n",
              "      <td>Comedy</td>\n",
              "    </tr>\n",
              "  </tbody>\n",
              "</table>\n",
              "</div>"
            ],
            "text/plain": [
              "   0                                   1                             2\n",
              "0  1                    Toy Story (1995)   Animation|Children's|Comedy\n",
              "1  2                      Jumanji (1995)  Adventure|Children's|Fantasy\n",
              "2  3             Grumpier Old Men (1995)                Comedy|Romance\n",
              "3  4            Waiting to Exhale (1995)                  Comedy|Drama\n",
              "4  5  Father of the Bride Part II (1995)                        Comedy"
            ]
          },
          "metadata": {},
          "execution_count": 4
        }
      ]
    },
    {
      "cell_type": "code",
      "metadata": {
        "colab": {
          "base_uri": "https://localhost:8080/"
        },
        "id": "LY6FrGxmXmKK",
        "outputId": "2eed3a08-5497-44dd-da59-4fd061e99cb3"
      },
      "source": [
        "users.head(5) , users.shape"
      ],
      "execution_count": 5,
      "outputs": [
        {
          "output_type": "execute_result",
          "data": {
            "text/plain": [
              "(   0  1   2   3      4\n",
              " 0  1  F   1  10  48067\n",
              " 1  2  M  56  16  70072\n",
              " 2  3  M  25  15  55117\n",
              " 3  4  M  45   7  02460\n",
              " 4  5  M  25  20  55455, (6040, 5))"
            ]
          },
          "metadata": {},
          "execution_count": 5
        }
      ]
    },
    {
      "cell_type": "code",
      "metadata": {
        "colab": {
          "base_uri": "https://localhost:8080/",
          "height": 204
        },
        "id": "sPERgWbcYMyD",
        "outputId": "6edcaf92-7142-4dd0-e7a3-0a4688d8c08d"
      },
      "source": [
        "ratings.head(5)"
      ],
      "execution_count": 6,
      "outputs": [
        {
          "output_type": "execute_result",
          "data": {
            "text/html": [
              "<div>\n",
              "<style scoped>\n",
              "    .dataframe tbody tr th:only-of-type {\n",
              "        vertical-align: middle;\n",
              "    }\n",
              "\n",
              "    .dataframe tbody tr th {\n",
              "        vertical-align: top;\n",
              "    }\n",
              "\n",
              "    .dataframe thead th {\n",
              "        text-align: right;\n",
              "    }\n",
              "</style>\n",
              "<table border=\"1\" class=\"dataframe\">\n",
              "  <thead>\n",
              "    <tr style=\"text-align: right;\">\n",
              "      <th></th>\n",
              "      <th>0</th>\n",
              "      <th>1</th>\n",
              "      <th>2</th>\n",
              "      <th>3</th>\n",
              "    </tr>\n",
              "  </thead>\n",
              "  <tbody>\n",
              "    <tr>\n",
              "      <th>0</th>\n",
              "      <td>1</td>\n",
              "      <td>1193</td>\n",
              "      <td>5</td>\n",
              "      <td>978300760</td>\n",
              "    </tr>\n",
              "    <tr>\n",
              "      <th>1</th>\n",
              "      <td>1</td>\n",
              "      <td>661</td>\n",
              "      <td>3</td>\n",
              "      <td>978302109</td>\n",
              "    </tr>\n",
              "    <tr>\n",
              "      <th>2</th>\n",
              "      <td>1</td>\n",
              "      <td>914</td>\n",
              "      <td>3</td>\n",
              "      <td>978301968</td>\n",
              "    </tr>\n",
              "    <tr>\n",
              "      <th>3</th>\n",
              "      <td>1</td>\n",
              "      <td>3408</td>\n",
              "      <td>4</td>\n",
              "      <td>978300275</td>\n",
              "    </tr>\n",
              "    <tr>\n",
              "      <th>4</th>\n",
              "      <td>1</td>\n",
              "      <td>2355</td>\n",
              "      <td>5</td>\n",
              "      <td>978824291</td>\n",
              "    </tr>\n",
              "  </tbody>\n",
              "</table>\n",
              "</div>"
            ],
            "text/plain": [
              "   0     1  2          3\n",
              "0  1  1193  5  978300760\n",
              "1  1   661  3  978302109\n",
              "2  1   914  3  978301968\n",
              "3  1  3408  4  978300275\n",
              "4  1  2355  5  978824291"
            ]
          },
          "metadata": {},
          "execution_count": 6
        }
      ]
    },
    {
      "cell_type": "markdown",
      "metadata": {
        "id": "XPX88cRCZEwv"
      },
      "source": [
        "## Preparing the training and test set"
      ]
    },
    {
      "cell_type": "code",
      "metadata": {
        "colab": {
          "base_uri": "https://localhost:8080/"
        },
        "id": "9DKKyzFUimrf",
        "outputId": "c05a19ca-d16a-4337-ea9f-ba2f141b6e56"
      },
      "source": [
        "# Import the training set and convert it to an array\n",
        "training_set = pd.read_csv('/content/drive/MyDrive/Deep Learning/Boltzmann Machine Datasets/ml-100k/u1.base',\n",
        "                           delimiter='\\t')\n",
        "training_set = np.array(training_set, dtype='int')\n",
        "\n",
        "# Import the test set and convert it to array\n",
        "test_set = pd.read_csv('/content/drive/MyDrive/Deep Learning/Boltzmann Machine Datasets/ml-100k/u1.test',\n",
        "                       delimiter='\\t')\n",
        "test_set = np.array(test_set, dtype='int')\n",
        "\n",
        "training_set.shape, test_set.shape, type(training_set), type(test_set)"
      ],
      "execution_count": 7,
      "outputs": [
        {
          "output_type": "execute_result",
          "data": {
            "text/plain": [
              "((79999, 4), (19999, 4), numpy.ndarray, numpy.ndarray)"
            ]
          },
          "metadata": {},
          "execution_count": 7
        }
      ]
    },
    {
      "cell_type": "code",
      "metadata": {
        "colab": {
          "base_uri": "https://localhost:8080/"
        },
        "id": "TOcTMPaqQeyw",
        "outputId": "1eed3d21-388a-4464-9538-26728d93def7"
      },
      "source": [
        "training_set[:5][:,2], test_set[:5]"
      ],
      "execution_count": 8,
      "outputs": [
        {
          "output_type": "execute_result",
          "data": {
            "text/plain": [
              "(array([3, 4, 3, 3, 4]), array([[        1,        10,         3, 875693118],\n",
              "        [        1,        12,         5, 878542960],\n",
              "        [        1,        14,         5, 874965706],\n",
              "        [        1,        17,         3, 875073198],\n",
              "        [        1,        20,         4, 887431883]]))"
            ]
          },
          "metadata": {},
          "execution_count": 8
        }
      ]
    },
    {
      "cell_type": "code",
      "metadata": {
        "id": "-guyc7A6lSq1",
        "colab": {
          "base_uri": "https://localhost:8080/"
        },
        "outputId": "1836b2a2-febd-441f-950b-cb874da5199b"
      },
      "source": [
        "# Get the number of users and number of movies\n",
        "nb_users = int(max(max(training_set[:,0]), max(test_set[:,0])))\n",
        "nb_movies = int(max(max(training_set[:,1]), max(test_set[:,1])))\n",
        "nb_users, nb_movies"
      ],
      "execution_count": 9,
      "outputs": [
        {
          "output_type": "execute_result",
          "data": {
            "text/plain": [
              "(943, 1682)"
            ]
          },
          "metadata": {},
          "execution_count": 9
        }
      ]
    },
    {
      "cell_type": "markdown",
      "metadata": {
        "id": "E3w8pC8eHsZN"
      },
      "source": [
        "## Convert the data into arrays with users in lines and movies in columns"
      ]
    },
    {
      "cell_type": "code",
      "metadata": {
        "id": "K8geD-HSIuxc"
      },
      "source": [
        "# Create a function for this\n",
        "def convert(data):\n",
        "  # There will list of 943 because we 943 users and the list will have 1682 elements\n",
        "  # because we have that number of movies\n",
        "  new_data = [] # Initializing the list\n",
        "  for id_users in range(1,nb_users + 1):\n",
        "    id_movies = data[:,1][data[:,0] == id_users] # Get the movie ids of a particular users\n",
        "    id_ratings = data[:,2][data[:,0] == id_users] # Get the ratings of the particular users\n",
        "    # Now we want to get the list of the movies and ratings where the users has not rated the \n",
        "    # movie as 0\n",
        "    ratings = np.zeros(nb_movies)\n",
        "    ratings[id_movies - 1] = id_ratings\n",
        "    new_data.append(list(ratings))\n",
        "  return new_data  "
      ],
      "execution_count": 10,
      "outputs": []
    },
    {
      "cell_type": "code",
      "metadata": {
        "id": "mEGwnmo9Cg1i"
      },
      "source": [
        "training_set_conv = convert(training_set)\n",
        "test_set_conv = convert(test_set)\n",
        "\n",
        "#training_set, test_set"
      ],
      "execution_count": 11,
      "outputs": []
    },
    {
      "cell_type": "code",
      "metadata": {
        "colab": {
          "base_uri": "https://localhost:8080/"
        },
        "id": "gukyuMxVLOUK",
        "outputId": "c63428d2-f580-4dbf-c3ef-dee610d34d80"
      },
      "source": [
        "type(training_set_conv), type(test_set_conv)"
      ],
      "execution_count": 12,
      "outputs": [
        {
          "output_type": "execute_result",
          "data": {
            "text/plain": [
              "(list, list)"
            ]
          },
          "metadata": {},
          "execution_count": 12
        }
      ]
    },
    {
      "cell_type": "markdown",
      "metadata": {
        "id": "kFZ3pTMyOedT"
      },
      "source": [
        "## Convert the data into Torch tensors"
      ]
    },
    {
      "cell_type": "code",
      "metadata": {
        "id": "GO9PhxX-RWFu"
      },
      "source": [
        "training_set_conv = torch.FloatTensor(training_set_conv)\n",
        "test_set_conv = torch.FloatTensor(test_set_conv)"
      ],
      "execution_count": 13,
      "outputs": []
    },
    {
      "cell_type": "code",
      "metadata": {
        "id": "rkGrylEoSLPm"
      },
      "source": [
        "# Converting the ratings into binary ratings '1(liked)' or '0(not liked)'\n",
        "# Replace all the '0' s in the set to '-1'. Because in the list the '0' s are the ratings where the users\n",
        "# actually didn't rate the movies. \n",
        "# Now since the ratings are going to be 0s and 1s, the original '0' s must have a new value now that is '-1'.\n",
        "training_set_conv[training_set_conv == 0] = -1\n",
        "training_set_conv[training_set_conv == 1] = 0 # OR operation doesn't work with Pytorch\n",
        "training_set_conv[training_set_conv == 2] = 0 # This will also have rating 0(not liked movies)\n",
        "training_set_conv[training_set_conv >= 3] = 1 # Liked Movies\n",
        "\n",
        "# Test set\n",
        "test_set_conv[test_set_conv == 0] = -1\n",
        "test_set_conv[test_set_conv == 1] = 0 # OR operation doesn't work with Pytorch\n",
        "test_set_conv[test_set_conv == 2] = 0 # This will also have rating 0(not liked movies)\n",
        "test_set_conv[test_set_conv >= 3] = 1 # Liked Movies"
      ],
      "execution_count": 14,
      "outputs": []
    },
    {
      "cell_type": "markdown",
      "metadata": {
        "id": "scqgj5ZbWQQn"
      },
      "source": [
        "## Architecture of Restricted Boltzmann Machine"
      ]
    },
    {
      "cell_type": "code",
      "metadata": {
        "id": "xsbXOz0XWlrh"
      },
      "source": [
        "# Create a class for RBM architecture\n",
        "class RBM():\n",
        "  def __init__(self, nv, nh): # 'nv'-visible node, 'nh' - hidden node\n",
        "    self.W = torch.randn(nh, nv) # Weights initialized\n",
        "    self.a = torch.randn(1, nh) # Create a 2-D tensor '1' for batch 'nh' for bias\n",
        "    self.b = torch.randn(1, nv) # for visible node\n",
        "\n",
        "  def sample_h(self, x):\n",
        "    # Compute probabilities of 'hidden' given 'visible'\n",
        "    wx = torch.mm(x, self.W.t())\n",
        "    activation = wx + self.a.expand_as(wx)\n",
        "    p_h_given_v = torch.sigmoid(activation)\n",
        "    return p_h_given_v, torch.bernoulli(p_h_given_v)  \n",
        "\n",
        "  def sample_v(self, y):\n",
        "    # Compute probabilities of 'hidden' given 'visible'\n",
        "    wy = torch.mm(y, self.W)\n",
        "    activation = wy + self.b.expand_as(wy)\n",
        "    p_v_given_h = torch.sigmoid(activation)\n",
        "    return p_v_given_h, torch.bernoulli(p_v_given_h)      \n",
        "\n",
        "  # Implement k-step Contrastive Divergence\n",
        "  def train(self, v0, vk, ph0, phk):\n",
        "    self.W += (torch.mm(v0.t(), ph0) - torch.mm(vk.t(), phk)).t()\n",
        "    self.b += torch.sum((v0 - vk),0) # Keep the 2 dimension\n",
        "    self.a += torch.sum((ph0 - phk),0)"
      ],
      "execution_count": 21,
      "outputs": []
    },
    {
      "cell_type": "markdown",
      "metadata": {
        "id": "GT03M4-Q9vTz"
      },
      "source": [
        "## Training the model"
      ]
    },
    {
      "cell_type": "code",
      "metadata": {
        "id": "5Sf5qis3x1-7"
      },
      "source": [
        "# Parameters to be passsed to RBM\n",
        "nv = len(training_set_conv[0]) # number of features in the visible node\n",
        "nh = 100 # Random assumed features in the hidden nodes\n",
        "batch_size = 100"
      ],
      "execution_count": 22,
      "outputs": []
    },
    {
      "cell_type": "code",
      "metadata": {
        "id": "hOd-lXDg3Q3K"
      },
      "source": [
        "# Create an RBM object\n",
        "rbm = RBM(nv, nh)"
      ],
      "execution_count": 23,
      "outputs": []
    },
    {
      "cell_type": "code",
      "metadata": {
        "id": "yVz8ch_y3kGJ",
        "colab": {
          "base_uri": "https://localhost:8080/"
        },
        "outputId": "6ec10e65-10cc-4bd3-fa86-d7329d139308"
      },
      "source": [
        "# Training the RBM\n",
        "nb_epoch = 10\n",
        "\n",
        "for epoch in range(1, nb_epoch + 1):\n",
        "  # Loss function to measure the error\n",
        "  train_loss = 0\n",
        "  # Normalize the train loss\n",
        "  s = 0.\n",
        "  for id_user in range(0, nb_users - batch_size, batch_size):\n",
        "    vk = training_set_conv[id_user:id_user + batch_size]\n",
        "    # Target, batch of original ratings we want to compare our losses\n",
        "    v0 = training_set_conv[id_user:id_user + batch_size]\n",
        "    ph0, _ = rbm.sample_h(v0) # To get the first element ot the function use the '_'\n",
        "    for k in range(10):\n",
        "      _,hk = rbm.sample_h(vk) # At this point vk = v0 later it will be updated\n",
        "      _,vk = rbm.sample_v(hk)\n",
        "      # Freeze the visible nodes with -1 ratings\n",
        "      vk[v0<0] = v0[v0<0]\n",
        "    phk,_ = rbm.sample_h(vk)\n",
        "    # Use train function to update the weights and bias\n",
        "    rbm.train(v0,vk,ph0,phk)\n",
        "    # Update the train-loss\n",
        "    train_loss += torch.mean(torch.abs(v0[v0>=0] - vk[v0>=0]))\n",
        "    s += 1\n",
        "  print('epoch : '+str(epoch)+' loss: '+str(train_loss/s))  "
      ],
      "execution_count": 24,
      "outputs": [
        {
          "output_type": "stream",
          "name": "stdout",
          "text": [
            "epoch : 1 loss: tensor(0.3422)\n",
            "epoch : 2 loss: tensor(0.2547)\n",
            "epoch : 3 loss: tensor(0.2202)\n",
            "epoch : 4 loss: tensor(0.2437)\n",
            "epoch : 5 loss: tensor(0.2491)\n",
            "epoch : 6 loss: tensor(0.2488)\n",
            "epoch : 7 loss: tensor(0.2508)\n",
            "epoch : 8 loss: tensor(0.2480)\n",
            "epoch : 9 loss: tensor(0.2474)\n",
            "epoch : 10 loss: tensor(0.2469)\n"
          ]
        }
      ]
    },
    {
      "cell_type": "markdown",
      "metadata": {
        "id": "eD4os1y7BRaG"
      },
      "source": [
        "## Testing the RBM"
      ]
    },
    {
      "cell_type": "code",
      "metadata": {
        "id": "mwxKRJf-GNXT"
      },
      "source": [
        "# Loss function to measure the error\n",
        "test_loss = 0\n",
        "s = 0.\n",
        "for id_user in range(0, nb_users):\n",
        "   v = training_set_conv[id_user:id_user + 1]\n",
        "   # Target, batch of original ratings we want to compare our losses\n",
        "   vt = test_set_conv[id_user:id_user + 1]\n",
        "   ph0, _ = rbm.sample_h(v0) # To get the first element ot the function use the '_'\n",
        "   for k in range(10):\n",
        "     _,hk = rbm.sample_h(vk) # At this point vk = v0 later it will be updated\n",
        "     _,vk = rbm.sample_v(hk)\n",
        "     # Freeze the visible nodes with -1 ratings\n",
        "     vk[v0<0] = v0[v0<0]\n",
        "   phk,_ = rbm.sample_h(vk)\n",
        "   # Use train function to update the weights and bias\n",
        "   rbm.train(v0,vk,ph0,phk)\n",
        "   # Update the train-loss\n",
        "   train_loss += torch.mean(torch.abs(v0[v0>=0] - vk[v0>=0]))\n",
        "   s += 1\n",
        " print('epoch : '+str(epoch)+' loss: '+str(train_loss/s)) "
      ],
      "execution_count": null,
      "outputs": []
    }
  ]
}