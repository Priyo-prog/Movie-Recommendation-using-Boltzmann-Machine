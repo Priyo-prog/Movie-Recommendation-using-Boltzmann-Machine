{
  "nbformat": 4,
  "nbformat_minor": 0,
  "metadata": {
    "colab": {
      "name": "Boltzmann_Machine_movie_recommendation.ipynb",
      "provenance": [],
      "authorship_tag": "ABX9TyNQ5RDRtu+Pw7dzNArwJDx8",
      "include_colab_link": true
    },
    "kernelspec": {
      "name": "python3",
      "display_name": "Python 3"
    },
    "language_info": {
      "name": "python"
    }
  },
  "cells": [
    {
      "cell_type": "markdown",
      "metadata": {
        "id": "view-in-github",
        "colab_type": "text"
      },
      "source": [
        "<a href=\"https://colab.research.google.com/github/Priyo-prog/Movie-Recommendation-using-Boltzmann-Machine/blob/main/Boltzmann_Machine_movie_recommendation.ipynb\" target=\"_parent\"><img src=\"https://colab.research.google.com/assets/colab-badge.svg\" alt=\"Open In Colab\"/></a>"
      ]
    },
    {
      "cell_type": "markdown",
      "metadata": {
        "id": "mDj3i2BpT6Rl"
      },
      "source": [
        "# Movie recommendation system using Boltzmann Machine\n",
        "\n",
        "* Use the data from Movielens to analyze the data on movies https://grouplens.org/datasets/movielens/\n",
        "\n",
        "* Use Torch Libraries to build a Boltzmann Machine"
      ]
    },
    {
      "cell_type": "markdown",
      "metadata": {
        "id": "664qoYEiUXTS"
      },
      "source": [
        "## Import important libraries"
      ]
    },
    {
      "cell_type": "code",
      "metadata": {
        "id": "nupjgx3IUbfa"
      },
      "source": [
        "import pandas as pd\n",
        "import numpy as np\n",
        "import torch \n",
        "import torch.nn as nn"
      ],
      "execution_count": 1,
      "outputs": []
    },
    {
      "cell_type": "code",
      "metadata": {
        "id": "rkA3Up2fUhpY"
      },
      "source": [
        ""
      ],
      "execution_count": null,
      "outputs": []
    }
  ]
}